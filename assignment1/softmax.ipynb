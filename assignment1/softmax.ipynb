{
 "cells": [
  {
   "cell_type": "code",
   "execution_count": null,
   "id": "d8aaae81",
   "metadata": {},
   "outputs": [],
   "source": [
    "# This mounts your Google Drive to the Colab VM.\n",
    "from google.colab import drive\n",
    "drive.mount('/content/drive')\n",
    "\n",
    "# TODO: Enter the foldername in your Drive where you have saved the unzipped\n",
    "# assignment folder, e.g. 'cs231n/assignments/assignment1/'\n",
    "FOLDERNAME = None\n",
    "assert FOLDERNAME is not None, \"[!] Enter the foldername.\"\n",
    "\n",
    "# Now that we've mounted your Drive, this ensures that\n",
    "# the Python interpreter of the Colab VM can load\n",
    "# python files from within it.\n",
    "import sys\n",
    "sys.path.append('/content/drive/My Drive/{}'.format(FOLDERNAME))\n",
    "\n",
    "# This downloads the CIFAR-10 dataset to your Drive\n",
    "# if it doesn't already exist.\n",
    "%cd /content/drive/My\\ Drive/$FOLDERNAME/cs231n/datasets/\n",
    "!bash get_datasets.sh\n",
    "%cd /content/drive/My\\ Drive/$FOLDERNAME"
   ]
  },
  {
   "cell_type": "markdown",
   "id": "e2c3cfa1",
   "metadata": {
    "tags": [
     "pdf-title"
    ]
   },
   "source": [
    "# Softmax exercise\n",
    "\n",
    "*Complete and hand in this completed worksheet (including its outputs and any supporting code outside of the worksheet) with your assignment submission. For more details see the [assignments page](http://vision.stanford.edu/teaching/cs231n/assignments.html) on the course website.*\n",
    "\n",
    "This exercise is analogous to the SVM exercise. You will:\n",
    "\n",
    "- implement a fully-vectorized **loss function** for the Softmax classifier\n",
    "- implement the fully-vectorized expression for its **analytic gradient**\n",
    "- **check your implementation** with numerical gradient\n",
    "- use a validation set to **tune the learning rate and regularization** strength\n",
    "- **optimize** the loss function with **SGD**\n",
    "- **visualize** the final learned weights\n"
   ]
  },
  {
   "cell_type": "code",
   "execution_count": 1,
   "id": "c55a72bf",
   "metadata": {
    "tags": [
     "pdf-ignore"
    ]
   },
   "outputs": [],
   "source": [
    "import random\n",
    "import numpy as np\n",
    "from cs231n.data_utils import load_CIFAR10\n",
    "import matplotlib.pyplot as plt\n",
    "\n",
    "%matplotlib inline\n",
    "plt.rcParams['figure.figsize'] = (10.0, 8.0) # set default size of plots\n",
    "plt.rcParams['image.interpolation'] = 'nearest'\n",
    "plt.rcParams['image.cmap'] = 'gray'\n",
    "\n",
    "# for auto-reloading extenrnal modules\n",
    "# see http://stackoverflow.com/questions/1907993/autoreload-of-modules-in-ipython\n",
    "%load_ext autoreload\n",
    "%autoreload 2"
   ]
  },
  {
   "cell_type": "code",
   "execution_count": 2,
   "id": "b99594ec",
   "metadata": {
    "tags": [
     "pdf-ignore"
    ]
   },
   "outputs": [
    {
     "name": "stdout",
     "output_type": "stream",
     "text": [
      "Train data shape:  (49000, 3073)\n",
      "Train labels shape:  (49000,)\n",
      "Validation data shape:  (1000, 3073)\n",
      "Validation labels shape:  (1000,)\n",
      "Test data shape:  (1000, 3073)\n",
      "Test labels shape:  (1000,)\n",
      "dev data shape:  (500, 3073)\n",
      "dev labels shape:  (500,)\n"
     ]
    }
   ],
   "source": [
    "def get_CIFAR10_data(num_training=49000, num_validation=1000, num_test=1000, num_dev=500):\n",
    "    \"\"\"\n",
    "    Load the CIFAR-10 dataset from disk and perform preprocessing to prepare\n",
    "    it for the linear classifier. These are the same steps as we used for the\n",
    "    SVM, but condensed to a single function.  \n",
    "    \"\"\"\n",
    "    # Load the raw CIFAR-10 data\n",
    "    cifar10_dir = 'cs231n/datasets/cifar-10-batches-py'\n",
    "    \n",
    "    # Cleaning up variables to prevent loading data multiple times (which may cause memory issue)\n",
    "    try:\n",
    "       del X_train, y_train\n",
    "       del X_test, y_test\n",
    "       print('Clear previously loaded data.')\n",
    "    except:\n",
    "       pass\n",
    "\n",
    "    X_train, y_train, X_test, y_test = load_CIFAR10(cifar10_dir)\n",
    "    \n",
    "    # subsample the data\n",
    "    mask = list(range(num_training, num_training + num_validation))\n",
    "    X_val = X_train[mask]\n",
    "    y_val = y_train[mask]\n",
    "    mask = list(range(num_training))\n",
    "    X_train = X_train[mask]\n",
    "    y_train = y_train[mask]\n",
    "    mask = list(range(num_test))\n",
    "    X_test = X_test[mask]\n",
    "    y_test = y_test[mask]\n",
    "    mask = np.random.choice(num_training, num_dev, replace=False)\n",
    "    X_dev = X_train[mask]\n",
    "    y_dev = y_train[mask]\n",
    "    \n",
    "    # Preprocessing: reshape the image data into rows\n",
    "    X_train = np.reshape(X_train, (X_train.shape[0], -1))\n",
    "    X_val = np.reshape(X_val, (X_val.shape[0], -1))\n",
    "    X_test = np.reshape(X_test, (X_test.shape[0], -1))\n",
    "    X_dev = np.reshape(X_dev, (X_dev.shape[0], -1))\n",
    "    \n",
    "    # Normalize the data: subtract the mean image\n",
    "    mean_image = np.mean(X_train, axis = 0)\n",
    "    X_train -= mean_image\n",
    "    X_val -= mean_image\n",
    "    X_test -= mean_image\n",
    "    X_dev -= mean_image\n",
    "    \n",
    "    # add bias dimension and transform into columns\n",
    "    X_train = np.hstack([X_train, np.ones((X_train.shape[0], 1))])\n",
    "    X_val = np.hstack([X_val, np.ones((X_val.shape[0], 1))])\n",
    "    X_test = np.hstack([X_test, np.ones((X_test.shape[0], 1))])\n",
    "    X_dev = np.hstack([X_dev, np.ones((X_dev.shape[0], 1))])\n",
    "    \n",
    "    return X_train, y_train, X_val, y_val, X_test, y_test, X_dev, y_dev\n",
    "\n",
    "\n",
    "# Invoke the above function to get our data.\n",
    "X_train, y_train, X_val, y_val, X_test, y_test, X_dev, y_dev = get_CIFAR10_data()\n",
    "print('Train data shape: ', X_train.shape)\n",
    "print('Train labels shape: ', y_train.shape)\n",
    "print('Validation data shape: ', X_val.shape)\n",
    "print('Validation labels shape: ', y_val.shape)\n",
    "print('Test data shape: ', X_test.shape)\n",
    "print('Test labels shape: ', y_test.shape)\n",
    "print('dev data shape: ', X_dev.shape)\n",
    "print('dev labels shape: ', y_dev.shape)"
   ]
  },
  {
   "cell_type": "markdown",
   "id": "2713b7f4",
   "metadata": {},
   "source": [
    "## Softmax Classifier\n",
    "\n",
    "Your code for this section will all be written inside `cs231n/classifiers/softmax.py`.\n"
   ]
  },
  {
   "cell_type": "code",
   "execution_count": 3,
   "id": "6168f67e",
   "metadata": {},
   "outputs": [
    {
     "name": "stdout",
     "output_type": "stream",
     "text": [
      "loss: 2.333207\n",
      "sanity check: 2.302585\n"
     ]
    }
   ],
   "source": [
    "# First implement the naive softmax loss function with nested loops.\n",
    "# Open the file cs231n/classifiers/softmax.py and implement the\n",
    "# softmax_loss_naive function.\n",
    "\n",
    "from cs231n.classifiers.softmax import softmax_loss_naive\n",
    "import time\n",
    "\n",
    "# Generate a random softmax weight matrix and use it to compute the loss.\n",
    "W = np.random.randn(3073, 10) * 0.0001\n",
    "loss, grad = softmax_loss_naive(W, X_dev, y_dev, 0.0)\n",
    "\n",
    "# As a rough sanity check, our loss should be something close to -log(0.1).\n",
    "print('loss: %f' % loss)\n",
    "print('sanity check: %f' % (-np.log(0.1)))"
   ]
  },
  {
   "cell_type": "markdown",
   "id": "b35bc604",
   "metadata": {
    "tags": [
     "pdf-inline"
    ]
   },
   "source": [
    "**Inline Question 1**\n",
    "\n",
    "Why do we expect our loss to be close to -log(0.1)? Explain briefly.\n",
    "\n",
    "$\\color{blue}{\\textit Your Answer:}$   \n",
    "Softmax 损失为 $-\\frac{1}{N}\\sum_{k=1}^N\\log\\left(\\frac{1}{C}\\right)$  \n",
    "而随机权重 W，相当于每个类别都是均匀分布，因此当 $C=10$ 时，Softmax 损失为：  \n",
    "$-\\log\\left(\\frac{1}{10}\\right)\\approx 2.302585$   \n",
    "注意这里的log是ln\n",
    "\n"
   ]
  },
  {
   "cell_type": "code",
   "execution_count": 4,
   "id": "b7bef674",
   "metadata": {},
   "outputs": [
    {
     "name": "stdout",
     "output_type": "stream",
     "text": [
      "numerical: 0.496780 analytic: 0.496780, relative error: 1.153298e-07\n",
      "numerical: -0.363853 analytic: -0.363853, relative error: 2.646069e-07\n",
      "numerical: 0.316517 analytic: 0.316517, relative error: 9.387098e-08\n",
      "numerical: -1.025446 analytic: -1.025446, relative error: 3.420316e-08\n",
      "numerical: 1.934856 analytic: 1.934856, relative error: 1.817486e-08\n",
      "numerical: -0.186184 analytic: -0.186184, relative error: 2.593792e-08\n",
      "numerical: 2.187083 analytic: 2.187083, relative error: 2.664574e-09\n",
      "numerical: 0.423683 analytic: 0.423683, relative error: 1.481303e-07\n",
      "numerical: -0.415155 analytic: -0.415155, relative error: 2.911843e-07\n",
      "numerical: 1.646301 analytic: 1.646301, relative error: 3.502702e-08\n",
      "numerical: -0.653023 analytic: -0.653023, relative error: 1.998784e-08\n",
      "numerical: 0.405771 analytic: 0.405771, relative error: 5.045425e-08\n",
      "numerical: 0.482685 analytic: 0.482684, relative error: 8.190047e-08\n",
      "numerical: 3.010071 analytic: 3.010071, relative error: 5.357952e-10\n",
      "numerical: 1.849743 analytic: 1.849743, relative error: 2.054312e-08\n",
      "numerical: 0.801541 analytic: 0.801541, relative error: 1.159065e-08\n",
      "numerical: -1.859554 analytic: -1.859554, relative error: 3.177247e-08\n",
      "numerical: 1.941515 analytic: 1.941515, relative error: 3.593121e-08\n",
      "numerical: 0.508308 analytic: 0.508308, relative error: 5.381819e-08\n",
      "numerical: -4.360814 analytic: -4.360814, relative error: 2.081244e-08\n"
     ]
    }
   ],
   "source": [
    "# Complete the implementation of softmax_loss_naive and implement a (naive)\n",
    "# version of the gradient that uses nested loops.\n",
    "loss, grad = softmax_loss_naive(W, X_dev, y_dev, 0.0)\n",
    "\n",
    "# As we did for the SVM, use numeric gradient checking as a debugging tool.\n",
    "# The numeric gradient should be close to the analytic gradient.\n",
    "from cs231n.gradient_check import grad_check_sparse\n",
    "f = lambda w: softmax_loss_naive(w, X_dev, y_dev, 0.0)[0]\n",
    "grad_numerical = grad_check_sparse(f, W, grad, 10)\n",
    "\n",
    "# similar to SVM case, do another gradient check with regularization\n",
    "loss, grad = softmax_loss_naive(W, X_dev, y_dev, 5e1)\n",
    "f = lambda w: softmax_loss_naive(w, X_dev, y_dev, 5e1)[0]\n",
    "grad_numerical = grad_check_sparse(f, W, grad, 10)"
   ]
  },
  {
   "cell_type": "code",
   "execution_count": 11,
   "id": "3994f8a3",
   "metadata": {},
   "outputs": [
    {
     "name": "stdout",
     "output_type": "stream",
     "text": [
      "naive loss: 2.333207e+00 computed in 0.114462s\n",
      "vectorized loss: 2.333207e+00 computed in 0.002001s\n",
      "Loss difference: 0.000000\n",
      "Gradient difference: 0.000000\n"
     ]
    }
   ],
   "source": [
    "# Now that we have a naive implementation of the softmax loss function and its gradient,\n",
    "# implement a vectorized version in softmax_loss_vectorized.\n",
    "# The two versions should compute the same results, but the vectorized version should be\n",
    "# much faster.\n",
    "tic = time.time()\n",
    "loss_naive, grad_naive = softmax_loss_naive(W, X_dev, y_dev, 0.000005)\n",
    "toc = time.time()\n",
    "print('naive loss: %e computed in %fs' % (loss_naive, toc - tic))\n",
    "\n",
    "from cs231n.classifiers.softmax import softmax_loss_vectorized\n",
    "tic = time.time()\n",
    "loss_vectorized, grad_vectorized = softmax_loss_vectorized(W, X_dev, y_dev, 0.000005)\n",
    "toc = time.time()\n",
    "print('vectorized loss: %e computed in %fs' % (loss_vectorized, toc - tic))\n",
    "\n",
    "# As we did for the SVM, we use the Frobenius norm to compare the two versions\n",
    "# of the gradient.\n",
    "grad_difference = np.linalg.norm(grad_naive - grad_vectorized, ord='fro')\n",
    "print('Loss difference: %f' % np.abs(loss_naive - loss_vectorized))\n",
    "print('Gradient difference: %f' % grad_difference)"
   ]
  },
  {
   "cell_type": "code",
   "execution_count": 20,
   "id": "bd171311",
   "metadata": {
    "tags": [
     "code"
    ],
    "test": "tuning"
   },
   "outputs": [
    {
     "name": "stdout",
     "output_type": "stream",
     "text": [
      "-----------------------------------\n",
      "lr: 0.000000, reg: 20000.000000\n",
      "-----------------------------------\n",
      "lr: 0.000000, reg: 25000.000000\n",
      "-----------------------------------\n",
      "lr: 0.000000, reg: 30000.000000\n",
      "-----------------------------------\n",
      "lr: 0.000000, reg: 35000.000000\n",
      "-----------------------------------\n",
      "lr: 0.000000, reg: 40000.000000\n",
      "-----------------------------------\n",
      "lr: 0.000000, reg: 20000.000000\n",
      "-----------------------------------\n",
      "lr: 0.000000, reg: 25000.000000\n",
      "-----------------------------------\n",
      "lr: 0.000000, reg: 30000.000000\n",
      "-----------------------------------\n",
      "lr: 0.000000, reg: 35000.000000\n",
      "-----------------------------------\n",
      "lr: 0.000000, reg: 40000.000000\n",
      "-----------------------------------\n",
      "lr: 0.000000, reg: 20000.000000\n",
      "-----------------------------------\n",
      "lr: 0.000000, reg: 25000.000000\n",
      "-----------------------------------\n",
      "lr: 0.000000, reg: 30000.000000\n",
      "-----------------------------------\n",
      "lr: 0.000000, reg: 35000.000000\n",
      "-----------------------------------\n",
      "lr: 0.000000, reg: 40000.000000\n",
      "-----------------------------------\n",
      "lr: 0.000001, reg: 20000.000000\n",
      "-----------------------------------\n",
      "lr: 0.000001, reg: 25000.000000\n",
      "-----------------------------------\n",
      "lr: 0.000001, reg: 30000.000000\n",
      "-----------------------------------\n",
      "lr: 0.000001, reg: 35000.000000\n",
      "-----------------------------------\n",
      "lr: 0.000001, reg: 40000.000000\n",
      "-----------------------------------\n",
      "lr: 0.000001, reg: 20000.000000\n",
      "-----------------------------------\n",
      "lr: 0.000001, reg: 25000.000000\n",
      "-----------------------------------\n",
      "lr: 0.000001, reg: 30000.000000\n",
      "-----------------------------------\n",
      "lr: 0.000001, reg: 35000.000000\n",
      "-----------------------------------\n",
      "lr: 0.000001, reg: 40000.000000\n",
      "lr 1.000000e-07 reg 2.000000e+04 train accuracy: 0.339694 val accuracy: 0.352000\n",
      "lr 1.000000e-07 reg 2.500000e+04 train accuracy: 0.329673 val accuracy: 0.341000\n",
      "lr 1.000000e-07 reg 3.000000e+04 train accuracy: 0.323245 val accuracy: 0.338000\n",
      "lr 1.000000e-07 reg 3.500000e+04 train accuracy: 0.318918 val accuracy: 0.324000\n",
      "lr 1.000000e-07 reg 4.000000e+04 train accuracy: 0.308510 val accuracy: 0.320000\n",
      "lr 3.000000e-07 reg 2.000000e+04 train accuracy: 0.337490 val accuracy: 0.353000\n",
      "lr 3.000000e-07 reg 2.500000e+04 train accuracy: 0.329449 val accuracy: 0.337000\n",
      "lr 3.000000e-07 reg 3.000000e+04 train accuracy: 0.327388 val accuracy: 0.345000\n",
      "lr 3.000000e-07 reg 3.500000e+04 train accuracy: 0.325041 val accuracy: 0.338000\n",
      "lr 3.000000e-07 reg 4.000000e+04 train accuracy: 0.310816 val accuracy: 0.332000\n",
      "lr 5.000000e-07 reg 2.000000e+04 train accuracy: 0.332184 val accuracy: 0.338000\n",
      "lr 5.000000e-07 reg 2.500000e+04 train accuracy: 0.319612 val accuracy: 0.331000\n",
      "lr 5.000000e-07 reg 3.000000e+04 train accuracy: 0.322286 val accuracy: 0.329000\n",
      "lr 5.000000e-07 reg 3.500000e+04 train accuracy: 0.318429 val accuracy: 0.324000\n",
      "lr 5.000000e-07 reg 4.000000e+04 train accuracy: 0.310388 val accuracy: 0.319000\n",
      "lr 7.000000e-07 reg 2.000000e+04 train accuracy: 0.332347 val accuracy: 0.350000\n",
      "lr 7.000000e-07 reg 2.500000e+04 train accuracy: 0.314816 val accuracy: 0.324000\n",
      "lr 7.000000e-07 reg 3.000000e+04 train accuracy: 0.315857 val accuracy: 0.327000\n",
      "lr 7.000000e-07 reg 3.500000e+04 train accuracy: 0.306939 val accuracy: 0.321000\n",
      "lr 7.000000e-07 reg 4.000000e+04 train accuracy: 0.286184 val accuracy: 0.304000\n",
      "lr 9.000000e-07 reg 2.000000e+04 train accuracy: 0.324388 val accuracy: 0.351000\n",
      "lr 9.000000e-07 reg 2.500000e+04 train accuracy: 0.327673 val accuracy: 0.335000\n",
      "lr 9.000000e-07 reg 3.000000e+04 train accuracy: 0.312224 val accuracy: 0.323000\n",
      "lr 9.000000e-07 reg 3.500000e+04 train accuracy: 0.308122 val accuracy: 0.327000\n",
      "lr 9.000000e-07 reg 4.000000e+04 train accuracy: 0.303347 val accuracy: 0.318000\n",
      "best validation accuracy achieved during cross-validation: 0.353000\n",
      "best_lr: 3.000000e-07, best_reg: 2.000000e+04\n"
     ]
    }
   ],
   "source": [
    "# Use the validation set to tune hyperparameters (regularization strength and\n",
    "# learning rate). You should experiment with different ranges for the learning\n",
    "# rates and regularization strengths; if you are careful you should be able to\n",
    "# get a classification accuracy of over 0.35 on the validation set.\n",
    "\n",
    "from cs231n.classifiers import Softmax\n",
    "results = {}\n",
    "best_val = -1\n",
    "best_softmax = None\n",
    "best_lr = -1\n",
    "best_reg = -1\n",
    "\n",
    "################################################################################\n",
    "# TODO:                                                                        #\n",
    "# Use the validation set to set the learning rate and regularization strength. #\n",
    "# This should be identical to the validation that you did for the SVM; save    #\n",
    "# the best trained softmax classifer in best_softmax.                          #\n",
    "################################################################################\n",
    "\n",
    "# Provided as a reference. You may or may not want to change these hyperparameters\n",
    "learning_rates = [1e-7, 3e-7, 5e-7, 7e-7, 9e-7]\n",
    "regularization_strengths = [2e4, 2.5e4, 3e4, 3.5e4, 4e4]\n",
    "\n",
    "# *****START OF YOUR CODE (DO NOT DELETE/MODIFY THIS LINE)*****\n",
    "\n",
    "for lr in learning_rates:\n",
    "    for reg in regularization_strengths:\n",
    "        print(\"-----------------------------------\")\n",
    "        print(\"lr: %f, reg: %f\" % (lr, reg))\n",
    "        softmax = Softmax()\n",
    "        softmax.train(X_train, y_train, learning_rate=lr, reg=reg, num_iters=5000, verbose=False)\n",
    "        y_train_pred = softmax.predict(X_train)\n",
    "        y_val_pred = softmax.predict(X_val)\n",
    "        train_accuracy = np.mean(y_train == y_train_pred)\n",
    "        val_accuracy = np.mean(y_val == y_val_pred)\n",
    "        results[(lr, reg)] = (train_accuracy, val_accuracy)\n",
    "        if val_accuracy > best_val:\n",
    "            best_val = val_accuracy\n",
    "            best_softmax = softmax\n",
    "            best_lr = lr\n",
    "            best_reg = reg\n",
    "\n",
    "# *****END OF YOUR CODE (DO NOT DELETE/MODIFY THIS LINE)*****\n",
    "    \n",
    "# Print out results.\n",
    "for lr, reg in sorted(results):\n",
    "    train_accuracy, val_accuracy = results[(lr, reg)]\n",
    "    print('lr %e reg %e train accuracy: %f val accuracy: %f' % (\n",
    "                lr, reg, train_accuracy, val_accuracy))\n",
    "    \n",
    "print('best validation accuracy achieved during cross-validation: %f' % best_val)\n",
    "print('best_lr: %e, best_reg: %e' % (best_lr, best_reg))"
   ]
  },
  {
   "cell_type": "code",
   "execution_count": 21,
   "id": "f94a8f12",
   "metadata": {
    "test": "test"
   },
   "outputs": [
    {
     "name": "stdout",
     "output_type": "stream",
     "text": [
      "softmax on raw pixels final test set accuracy: 0.343000\n"
     ]
    }
   ],
   "source": [
    "# evaluate on test set\n",
    "# Evaluate the best softmax on test set\n",
    "y_test_pred = best_softmax.predict(X_test)\n",
    "test_accuracy = np.mean(y_test == y_test_pred)\n",
    "print('softmax on raw pixels final test set accuracy: %f' % (test_accuracy, ))"
   ]
  },
  {
   "cell_type": "markdown",
   "id": "7e2112ee",
   "metadata": {
    "tags": [
     "pdf-inline"
    ]
   },
   "source": [
    "**Inline Question 2** - *True or False*\n",
    "\n",
    "Suppose the overall training loss is defined as the sum of the per-datapoint loss over all training examples. It is possible to add a new datapoint to a training set that would leave the SVM loss unchanged, but this is not the case with the Softmax classifier loss.\n",
    "\n",
    "$\\color{blue}{\\textit Your Answer:}$  \n",
    "True\n",
    "\n",
    "$\\color{blue}{\\textit Your Explanation:}$\n",
    "- 注意这里问的是“the sum of the per-datapoint loss”而不是平均损失，所以对于SVM来说，如果新加入的数据点的预测分数远大于正确类别的间隔要求，这个数据点的损失为零，它不会对SVM的总体损失产生影响。  \n",
    "- 与SVM不同，Softmax分类器的损失基于概率分布，即使模型对某个类别的预测概率非常高，仍然会产生一定的损失。Softmax的损失是连续的，且对每一个数据点都有贡献。因此，不管新数据点的预测概率有多接近1（非常自信），它仍然会对总损失有一定的贡献。添加新的数据点总会导致损失的变化，不会出现不改变总损失的情况。\n"
   ]
  },
  {
   "cell_type": "code",
   "execution_count": 23,
   "id": "86d86120",
   "metadata": {},
   "outputs": [
    {
     "data": {
      "image/png": "[encoded data removed]",
      "text/plain": [
       "<Figure size 1000x800 with 10 Axes>"
      ]
     },
     "metadata": {},
     "output_type": "display_data"
    }
   ],
   "source": [
    "# Visualize the learned weights for each class\n",
    "w = best_softmax.W[:-1,:] # strip out the bias\n",
    "w = w.reshape(32, 32, 3, 10)\n",
    "\n",
    "w_min, w_max = np.min(w), np.max(w)\n",
    "\n",
    "classes = ['plane', 'car', 'bird', 'cat', 'deer', 'dog', 'frog', 'horse', 'ship', 'truck']\n",
    "for i in range(10):\n",
    "    plt.subplot(2, 5, i + 1)\n",
    "    \n",
    "    # Rescale the weights to be between 0 and 255\n",
    "    wimg = 255.0 * (w[:, :, :, i].squeeze() - w_min) / (w_max - w_min)\n",
    "    plt.imshow(wimg.astype('uint8'))\n",
    "    plt.axis('off')\n",
    "    plt.title(classes[i])"
   ]
  },
  {
   "cell_type": "code",
   "execution_count": null,
   "id": "24688f99",
   "metadata": {},
   "outputs": [],
   "source": []
  }
 ],
 "metadata": {
  "kernelspec": {
   "display_name": "pytorch",
   "language": "python",
   "name": "python3"
  },
  "language_info": {
   "codemirror_mode": {
    "name": "ipython",
    "version": 3
   },
   "file_extension": ".py",
   "mimetype": "text/x-python",
   "name": "python",
   "nbconvert_exporter": "python",
   "pygments_lexer": "ipython3",
   "version": "3.9.18"
  }
 },
 "nbformat": 4,
 "nbformat_minor": 5
}
